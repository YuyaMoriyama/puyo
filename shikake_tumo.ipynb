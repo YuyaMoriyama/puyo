{
 "cells": [
  {
   "cell_type": "markdown",
   "metadata": {},
   "source": [
    "仕掛けたときのツモ数と勝敗の関係を出力"
   ]
  },
  {
   "cell_type": "code",
   "execution_count": 6,
   "metadata": {},
   "outputs": [],
   "source": [
    "import cv2\n",
    "import pandas as pd\n",
    "import matplotlib.pyplot as plt\n",
    "import math\n",
    "import numpy as np\n",
    "import os\n",
    "import collections"
   ]
  },
  {
   "cell_type": "code",
   "execution_count": 7,
   "metadata": {},
   "outputs": [],
   "source": [
    "folder = \"puyopuyo_saikyo_league/stats/s1_day1_momoken_rein_2\"\n",
    "games = 57"
   ]
  },
  {
   "cell_type": "code",
   "execution_count": 8,
   "metadata": {},
   "outputs": [
    {
     "data": {
      "text/html": [
       "<div>\n",
       "<style scoped>\n",
       "    .dataframe tbody tr th:only-of-type {\n",
       "        vertical-align: middle;\n",
       "    }\n",
       "\n",
       "    .dataframe tbody tr th {\n",
       "        vertical-align: top;\n",
       "    }\n",
       "\n",
       "    .dataframe thead th {\n",
       "        text-align: right;\n",
       "    }\n",
       "</style>\n",
       "<table border=\"1\" class=\"dataframe\">\n",
       "  <thead>\n",
       "    <tr style=\"text-align: right;\">\n",
       "      <th></th>\n",
       "      <th>1P勝利</th>\n",
       "      <th>1P敗北</th>\n",
       "      <th>2P勝利</th>\n",
       "      <th>2P敗北</th>\n",
       "    </tr>\n",
       "  </thead>\n",
       "  <tbody>\n",
       "    <tr>\n",
       "      <th>1～6手</th>\n",
       "      <td>0</td>\n",
       "      <td>0</td>\n",
       "      <td>0</td>\n",
       "      <td>0</td>\n",
       "    </tr>\n",
       "    <tr>\n",
       "      <th>7～12手</th>\n",
       "      <td>0</td>\n",
       "      <td>0</td>\n",
       "      <td>0</td>\n",
       "      <td>0</td>\n",
       "    </tr>\n",
       "    <tr>\n",
       "      <th>13～18手</th>\n",
       "      <td>0</td>\n",
       "      <td>2</td>\n",
       "      <td>0</td>\n",
       "      <td>0</td>\n",
       "    </tr>\n",
       "    <tr>\n",
       "      <th>19～24手</th>\n",
       "      <td>2</td>\n",
       "      <td>1</td>\n",
       "      <td>3</td>\n",
       "      <td>5</td>\n",
       "    </tr>\n",
       "    <tr>\n",
       "      <th>25～30手</th>\n",
       "      <td>5</td>\n",
       "      <td>8</td>\n",
       "      <td>6</td>\n",
       "      <td>9</td>\n",
       "    </tr>\n",
       "    <tr>\n",
       "      <th>31～36手</th>\n",
       "      <td>3</td>\n",
       "      <td>0</td>\n",
       "      <td>2</td>\n",
       "      <td>1</td>\n",
       "    </tr>\n",
       "  </tbody>\n",
       "</table>\n",
       "</div>"
      ],
      "text/plain": [
       "        1P勝利  1P敗北  2P勝利  2P敗北\n",
       "1～6手       0     0     0     0\n",
       "7～12手      0     0     0     0\n",
       "13～18手     0     2     0     0\n",
       "19～24手     2     1     3     5\n",
       "25～30手     5     8     6     9\n",
       "31～36手     3     0     2     1"
      ]
     },
     "execution_count": 8,
     "metadata": {},
     "output_type": "execute_result"
    }
   ],
   "source": [
    "#仕掛けのツモ数と勝ち負けの出力\n",
    "\n",
    "#1Pと2Pそれぞれについて勝ち=1, 負け=0のリスト作成(win_nP_list)\n",
    "win_1P_list = []\n",
    "win_2P_list = []\n",
    "\n",
    "for i in range(games):\n",
    "    #ファイル読みこみ\n",
    "    filepath = folder + \"/\" + str(i) + \"_6.csv\"\n",
    "    df_game = pd.read_csv(filepath)\n",
    "    \n",
    "    #勝ちなら1、負けなら0を格納\n",
    "    if df_game[\"Win\"].iloc[0] == 1:\n",
    "        win_1P_list.append(1)\n",
    "        win_2P_list.append(0)\n",
    "    else:\n",
    "        win_1P_list.append(0)\n",
    "        win_2P_list.append(1)      \n",
    "\n",
    "#各試合について仕掛けのツモ数のリストを作成(shikake_t_list)\n",
    "#各試合についてどちらが仕掛けたかのリスト(shikake_list)を作成\n",
    "shikake_t_list = []\n",
    "shikake_list = []\n",
    "\n",
    "for i in range(games):\n",
    "    #ファイル読み込み\n",
    "    filepath = folder + \"/\" + str(i) + \"_6.csv\"\n",
    "    df_game = pd.read_csv(filepath)\n",
    "    num = 0\n",
    "    index = 0\n",
    "    N = len(df_game[\"Player\"])\n",
    "     \n",
    "    #仕掛けとカウントしたらnumを1にして次の試合へ    \n",
    "    while (num<1):\n",
    "        #全消し戦はノーカウント(-1)\n",
    "        if df_game[\"Zenkeshi\"].iloc[0] == 1:\n",
    "            shikake_t_list.append(-1)\n",
    "            shikake_list.append(-1)\n",
    "            num = 1\n",
    "        #連鎖がない試合の場合ノーカウント(-1)\n",
    "        elif N == 0:\n",
    "            shikake_t_list.append(-1)\n",
    "            shikake_list.append(-1)\n",
    "            num = 1\n",
    "        #(★)の後に連鎖が発生せず試合が終わった(index=N)場合、★をカウント\n",
    "        elif index == N:\n",
    "            shikake_t_list.append(df_game[\"Tumo\"].iloc[index-1])\n",
    "            shikake_list.append(df_game[\"Player\"].iloc[index-1])\n",
    "        else:\n",
    "            #12手以内の単発でおじゃま発生が4つ未満かつ対応が発生しなかった場合、ノーカウント→次の行を参照→(★)\n",
    "            if (df_game[\"Rensa\"].iloc[index]==1)&(df_game[\"Tumo\"].iloc[index]<=12)&(df_game[\"Ojama_detail\"].iloc[index]<4)&(df_game[\"Continue\"].iloc[index]==0):\n",
    "                index += 1\n",
    "            #ほとんどがこの場合。ツモ数とプレイヤーを格納\n",
    "            else:\n",
    "                if df_game[\"Player\"].iloc[index] == 1:\n",
    "                    shikake_t_list.append(df_game[\"Tumo\"].iloc[index])\n",
    "                    shikake_list.append(df_game[\"Player\"].iloc[index])\n",
    "                else:\n",
    "                    shikake_t_list.append(df_game[\"Tumo\"].iloc[index])\n",
    "                    shikake_list.append(df_game[\"Player\"].iloc[index])\n",
    "                num = 1\n",
    "\n",
    "\n",
    "#(1P/2P)/(勝/負)の4パターンでツモ数を分類\n",
    "tumo_win_1P = []\n",
    "tumo_win_2P = []\n",
    "tumo_lose_1P = []\n",
    "tumo_lose_2P = []\n",
    "\n",
    "for i in range(len(win_1P_list)):\n",
    "    if shikake_list[i] == 1:\n",
    "        if win_1P_list[i] == 1:\n",
    "            tumo_win_1P.append(shikake_t_list[i])\n",
    "        else:\n",
    "            tumo_lose_1P.append(shikake_t_list[i])\n",
    "    elif shikake_list[i] == 2:\n",
    "        if win_2P_list[i] == 1:\n",
    "            tumo_win_2P.append(shikake_t_list[i])\n",
    "        else:\n",
    "            tumo_lose_2P.append(shikake_t_list[i])\n",
    "    else:\n",
    "        pass\n",
    "    \n",
    "#1~6手、7~12手、13~18手、19~24手、25~30手、31~36手ごとの数を出力\n",
    "w_1P = []\n",
    "l_1P = []\n",
    "w_2P = []\n",
    "l_2P = []\n",
    "\n",
    "for i in range(6):\n",
    "    w_1P.append(sum(((i*6)<x<(i*6+7)) for x in tumo_win_1P))\n",
    "    l_1P.append(sum(((i*6)<x<(i*6+7)) for x in tumo_lose_1P))\n",
    "    w_2P.append(sum(((i*6)<x<(i*6+7)) for x in tumo_win_2P))\n",
    "    l_2P.append(sum(((i*6)<x<(i*6+7)) for x in tumo_lose_2P))\n",
    "    \n",
    "df_shikake_tumo = pd.DataFrame(list(zip(w_1P, l_1P, w_2P, l_2P)), columns=[\"1P勝利\", \"1P敗北\", \"2P勝利\", \"2P敗北\"],\n",
    "                              index=[\"1～6手\", \"7～12手\", \"13～18手\", \"19～24手\", \"25～30手\", \"31～36手\"])   \n",
    "df_shikake_tumo"
   ]
  },
  {
   "cell_type": "code",
   "execution_count": 9,
   "metadata": {},
   "outputs": [
    {
     "data": {
      "image/png": "[encoded data removed]",
      "text/plain": [
       "<Figure size 432x288 with 1 Axes>"
      ]
     },
     "metadata": {
      "needs_background": "light"
     },
     "output_type": "display_data"
    }
   ],
   "source": [
    "#pythonコード上でもグラフ出力, 1P側\n",
    "#ヒストグラムの作り方に誤りがあったのでS2からこちらを使います\n",
    "plt.figure()\n",
    "plt.hist(tumo_win_1P+tumo_lose_1P, list(range(1, 38, 6)), alpha=0.3, color=\"g\", range=(0.5,36.5), align=\"mid\", rwidth=0.8)\n",
    "plt.hist(tumo_win_1P,list(range(1, 38, 6)), alpha=0.3, color='b', range=(0.5,36.5), align=\"mid\", rwidth=0.8)\n",
    "plt.xticks(list(range(0, 37, 6)))\n",
    "plt.show()"
   ]
  },
  {
   "cell_type": "code",
   "execution_count": 10,
   "metadata": {},
   "outputs": [
    {
     "data": {
      "image/png": "[encoded data removed]",
      "text/plain": [
       "<Figure size 432x288 with 1 Axes>"
      ]
     },
     "metadata": {
      "needs_background": "light"
     },
     "output_type": "display_data"
    }
   ],
   "source": [
    "#pythonコード上でも出力, 2P側\n",
    "plt.figure()\n",
    "plt.hist(tumo_win_2P+tumo_lose_2P, list(range(1, 38, 6)), alpha=0.3, color=\"g\", range=(0.5,36.5), align=\"mid\", rwidth=0.8)\n",
    "plt.hist(tumo_win_2P,list(range(1, 38, 6)), alpha=0.3, color='b', range=(0.5,36.5), align=\"mid\", rwidth=0.8)\n",
    "plt.xticks(list(range(0, 37, 6)))\n",
    "plt.show()"
   ]
  }
 ],
 "metadata": {
  "kernelspec": {
   "display_name": "Python 3",
   "language": "python",
   "name": "python3"
  },
  "language_info": {
   "codemirror_mode": {
    "name": "ipython",
    "version": 3
   },
   "file_extension": ".py",
   "mimetype": "text/x-python",
   "name": "python",
   "nbconvert_exporter": "python",
   "pygments_lexer": "ipython3",
   "version": "3.8.5"
  }
 },
 "nbformat": 4,
 "nbformat_minor": 4
}
