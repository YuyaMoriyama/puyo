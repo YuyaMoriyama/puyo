{
 "cells": [
  {
   "cell_type": "markdown",
   "metadata": {},
   "source": [
    "先打ち時の火力と勝敗の関係を出力"
   ]
  },
  {
   "cell_type": "code",
   "execution_count": 1,
   "metadata": {},
   "outputs": [],
   "source": [
    "import cv2\n",
    "import pandas as pd\n",
    "import matplotlib.pyplot as plt\n",
    "import math\n",
    "import numpy as np\n",
    "import os\n",
    "import collections"
   ]
  },
  {
   "cell_type": "code",
   "execution_count": 2,
   "metadata": {},
   "outputs": [],
   "source": [
    "folder = \"puyopuyo_saikyo_league/stats/s1_day1_momoken_rein_2\"\n",
    "games = 57"
   ]
  },
  {
   "cell_type": "code",
   "execution_count": 3,
   "metadata": {},
   "outputs": [
    {
     "data": {
      "text/html": [
       "<div>\n",
       "<style scoped>\n",
       "    .dataframe tbody tr th:only-of-type {\n",
       "        vertical-align: middle;\n",
       "    }\n",
       "\n",
       "    .dataframe tbody tr th {\n",
       "        vertical-align: top;\n",
       "    }\n",
       "\n",
       "    .dataframe thead th {\n",
       "        text-align: right;\n",
       "    }\n",
       "</style>\n",
       "<table border=\"1\" class=\"dataframe\">\n",
       "  <thead>\n",
       "    <tr style=\"text-align: right;\">\n",
       "      <th></th>\n",
       "      <th>1P勝利</th>\n",
       "      <th>1P敗北</th>\n",
       "      <th>2P勝利</th>\n",
       "      <th>2P敗北</th>\n",
       "    </tr>\n",
       "  </thead>\n",
       "  <tbody>\n",
       "    <tr>\n",
       "      <th>1～20000点</th>\n",
       "      <td>1</td>\n",
       "      <td>1</td>\n",
       "      <td>3</td>\n",
       "      <td>2</td>\n",
       "    </tr>\n",
       "    <tr>\n",
       "      <th>20001～40000点</th>\n",
       "      <td>1</td>\n",
       "      <td>1</td>\n",
       "      <td>2</td>\n",
       "      <td>2</td>\n",
       "    </tr>\n",
       "    <tr>\n",
       "      <th>40001～60000点</th>\n",
       "      <td>6</td>\n",
       "      <td>2</td>\n",
       "      <td>1</td>\n",
       "      <td>0</td>\n",
       "    </tr>\n",
       "    <tr>\n",
       "      <th>60001～80000点</th>\n",
       "      <td>4</td>\n",
       "      <td>0</td>\n",
       "      <td>4</td>\n",
       "      <td>3</td>\n",
       "    </tr>\n",
       "    <tr>\n",
       "      <th>80001～100000点</th>\n",
       "      <td>3</td>\n",
       "      <td>0</td>\n",
       "      <td>0</td>\n",
       "      <td>0</td>\n",
       "    </tr>\n",
       "    <tr>\n",
       "      <th>100001～120000点</th>\n",
       "      <td>0</td>\n",
       "      <td>0</td>\n",
       "      <td>1</td>\n",
       "      <td>0</td>\n",
       "    </tr>\n",
       "    <tr>\n",
       "      <th>120001～140000点</th>\n",
       "      <td>0</td>\n",
       "      <td>0</td>\n",
       "      <td>0</td>\n",
       "      <td>0</td>\n",
       "    </tr>\n",
       "  </tbody>\n",
       "</table>\n",
       "</div>"
      ],
      "text/plain": [
       "                1P勝利  1P敗北  2P勝利  2P敗北\n",
       "1～20000点           1     1     3     2\n",
       "20001～40000点       1     1     2     2\n",
       "40001～60000点       6     2     1     0\n",
       "60001～80000点       4     0     4     3\n",
       "80001～100000点      3     0     0     0\n",
       "100001～120000点     0     0     1     0\n",
       "120001～140000点     0     0     0     0"
      ]
     },
     "execution_count": 3,
     "metadata": {},
     "output_type": "execute_result"
    }
   ],
   "source": [
    "#先打ち時の火力\n",
    "#回収率リストを作成\n",
    "#本線(≠セカンド)に絞る\n",
    "\n",
    "sakiuchi_tokuten_1P_win = []\n",
    "sakiuchi_tokuten_2P_win = []\n",
    "sakiuchi_tokuten_1P_lose = []\n",
    "sakiuchi_tokuten_2P_lose = []\n",
    "\n",
    "\n",
    "for i in range(games):\n",
    "    #ファイル読み込み\n",
    "    filepath = folder + \"/\" + str(i) + \"_6.csv\"\n",
    "    df_game = pd.read_csv(filepath)\n",
    "    N = len(df_game[\"Frame\"])\n",
    "\n",
    "    if 1 in list(df_game[\"Honsen\"].loc[df_game[\"Rensa\"]>5]):\n",
    "        honsen_index = min(df_game.index[(df_game[\"Honsen\"] == 1) & (df_game[\"Rensa\"] > 5)].tolist())\n",
    "        if df_game[\"Win\"].iloc[0] == 1:\n",
    "            if df_game[\"Player\"].iloc[honsen_index] == 1:\n",
    "                tmp = max(list(df_game[\"Tokuten\"].loc[(df_game[\"Honsen\"]==1)&(df_game[\"Player\"]==1)]))\n",
    "                if (10000<= tmp <= 160000):\n",
    "                    sakiuchi_tokuten_1P_win.append(tmp)\n",
    "            else:\n",
    "                tmp = max(list(df_game[\"Tokuten\"].loc[(df_game[\"Honsen\"]==1)&(df_game[\"Player\"]==2)]))\n",
    "                if (10000<= tmp <= 160000):\n",
    "                    sakiuchi_tokuten_2P_lose.append(tmp)\n",
    "\n",
    "        else:\n",
    "            if df_game[\"Player\"].iloc[honsen_index] == 2:\n",
    "                tmp = max(list(df_game[\"Tokuten\"].loc[(df_game[\"Honsen\"]==1)&(df_game[\"Player\"]==2)]))\n",
    "                if (10000 <= tmp <= 160000):\n",
    "                    sakiuchi_tokuten_2P_win.append(tmp)\n",
    "            else:\n",
    "                tmp = max(list(df_game[\"Tokuten\"].loc[(df_game[\"Honsen\"]==1)&(df_game[\"Player\"]==1)]))\n",
    "                if (10000 <= tmp <= 160000):\n",
    "                    sakiuchi_tokuten_1P_lose.append(tmp)\n",
    "\n",
    "    \n",
    "#1~20000点、20001~40000点、40001~60000点、60001~80000点、80001~100000点、100001~120000点, 120001~140000点ごとの数を出力\n",
    "w_1P = []\n",
    "l_1P = []\n",
    "w_2P = []\n",
    "l_2P = []\n",
    "\n",
    "for i in range(7):\n",
    "    w_1P.append(sum(((i*20000)<x<(i*20000+20001)) for x in sakiuchi_tokuten_1P_win))\n",
    "    l_1P.append(sum(((i*20000)<x<(i*20000+20001)) for x in sakiuchi_tokuten_1P_lose))\n",
    "    w_2P.append(sum(((i*20000)<x<(i*20000+20001)) for x in sakiuchi_tokuten_2P_win))\n",
    "    l_2P.append(sum(((i*20000)<x<(i*20000+20001)) for x in sakiuchi_tokuten_2P_lose))\n",
    "    \n",
    "df_sakiuchi_tokuten = pd.DataFrame(list(zip(w_1P, l_1P, w_2P, l_2P)), columns=[\"1P勝利\", \"1P敗北\", \"2P勝利\", \"2P敗北\"],\n",
    "                              index=[\"1～20000点\", \"20001～40000点\", \"40001～60000点\", \"60001～80000点\", \"80001～100000点\",\n",
    "                                     \"100001～120000点\", \"120001～140000点\"])   \n",
    "df_sakiuchi_tokuten"
   ]
  },
  {
   "cell_type": "code",
   "execution_count": 4,
   "metadata": {},
   "outputs": [
    {
     "data": {
      "image/png": "[encoded data removed]",
      "text/plain": [
       "<Figure size 432x288 with 1 Axes>"
      ]
     },
     "metadata": {
      "needs_background": "light"
     },
     "output_type": "display_data"
    }
   ],
   "source": [
    "#pythonコード上でもグラフ出力, 1P側\n",
    "#ヒストグラムの作り方に誤りがあったのでS2からこちらを使います\n",
    "plt.figure()\n",
    "plt.hist(sakiuchi_tokuten_1P_win+sakiuchi_tokuten_1P_lose, list(range(1, 140002, 20000)), alpha=0.3, color=\"g\", align=\"mid\", rwidth=0.8)\n",
    "plt.hist(sakiuchi_tokuten_1P_win,list(range(1, 140002, 20000)), alpha=0.3, color='b',  align=\"mid\", rwidth=0.8)\n",
    "plt.xticks(list(range(0, 140002, 20000)))\n",
    "plt.show()"
   ]
  },
  {
   "cell_type": "code",
   "execution_count": 5,
   "metadata": {},
   "outputs": [
    {
     "data": {
      "image/png": "[encoded data removed]",
      "text/plain": [
       "<Figure size 432x288 with 1 Axes>"
      ]
     },
     "metadata": {
      "needs_background": "light"
     },
     "output_type": "display_data"
    }
   ],
   "source": [
    "#pythonコード上でもグラフ出力, 1P側\n",
    "#ヒストグラムの作り方に誤りがあったのでS2からこちらを使います\n",
    "plt.figure()\n",
    "plt.hist(sakiuchi_tokuten_2P_win+sakiuchi_tokuten_2P_lose, list(range(1, 140002, 20000)), alpha=0.3, color=\"g\", align=\"mid\", rwidth=0.8)\n",
    "plt.hist(sakiuchi_tokuten_2P_win,list(range(1, 140002, 20000)), alpha=0.3, color='b',  align=\"mid\", rwidth=0.8)\n",
    "plt.xticks(list(range(0, 140002, 20000)))\n",
    "plt.show()"
   ]
  },
  {
   "cell_type": "code",
   "execution_count": null,
   "metadata": {},
   "outputs": [],
   "source": []
  }
 ],
 "metadata": {
  "kernelspec": {
   "display_name": "Python 3",
   "language": "python",
   "name": "python3"
  },
  "language_info": {
   "codemirror_mode": {
    "name": "ipython",
    "version": 3
   },
   "file_extension": ".py",
   "mimetype": "text/x-python",
   "name": "python",
   "nbconvert_exporter": "python",
   "pygments_lexer": "ipython3",
   "version": "3.8.5"
  }
 },
 "nbformat": 4,
 "nbformat_minor": 4
}
